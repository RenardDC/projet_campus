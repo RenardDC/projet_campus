{
 "cells": [
  {
   "cell_type": "markdown",
   "metadata": {},
   "source": [
    "# 0 Mise en place des fonctions de travail "
   ]
  },
  {
   "cell_type": "code",
   "execution_count": 1,
   "metadata": {},
   "outputs": [],
   "source": [
    "import random\n",
    "\n",
    "def generate_random_array(debug=False, N=21):\n",
    "    \"\"\"Renvoie un tableau contenant toutes les valeurs entières de 0 (inclus)\n",
    "    à N (exclus) rangées dans un ordre aléatoire\n",
    "\n",
    "    Args:\n",
    "        debug (boolean): quand debug est vrai, la fonction renvoie toujours le\n",
    "                         même tableau afin de simplifier le débogage de vos\n",
    "                         algorithmes de tri\n",
    "        N (int): la taille du tableau à renvoyer\n",
    "\n",
    "    Returns:\n",
    "        list[int]: un tableau d'entiers, de taille N, non ordonné\n",
    "    \"\"\"\n",
    "\n",
    "    if debug:\n",
    "        return [3, 9, 7, 1, 6, 2, 8, 4, 5, 0]\n",
    "\n",
    "    array = list(range(0, N))\n",
    "    random.shuffle(array)\n",
    "\n",
    "    return array"
   ]
  },
  {
   "cell_type": "code",
   "execution_count": 2,
   "metadata": {},
   "outputs": [
    {
     "name": "stdout",
     "output_type": "stream",
     "text": [
      "[12, 9, 1, 0, 6, 19, 11, 3, 17, 15, 10, 4, 18, 7, 2, 5, 16, 8, 13, 14, 20]\n",
      "[3, 9, 7, 1, 6, 2, 8, 4, 5, 0]\n",
      "[26, 27, 11, 10, 8, 3, 17, 13, 12, 0, 18, 7, 21, 20, 2, 1, 23, 5, 16, 28, 29, 25, 19, 14, 4, 6, 9, 24, 22, 30, 15]\n"
     ]
    }
   ],
   "source": [
    "# Exemple d'utilisation de la fonction precedente\n",
    "\n",
    "print(generate_random_array()) # Retourne un tableau avec des nombres naturels allant de 0 a 20\n",
    "print(generate_random_array(True)) # Retourne le tableau [3, 9, 7, 1, 6, 2, 8, 4, 5, 0]\n",
    "print(generate_random_array(N=31)) # Des nombres naturels allant de 0 a 30"
   ]
  },
  {
   "cell_type": "code",
   "execution_count": 3,
   "metadata": {},
   "outputs": [],
   "source": [
    "# astuce: peut se réaliser en une opération\n",
    "def swap(tab, i, j):\n",
    "    tab[i], tab[j] = tab[j], tab[i]\n",
    "    return tab\n",
    "    \"\"\"Échange la place des éléments aux indices i et j du tableau\"\"\""
   ]
  },
  {
   "cell_type": "markdown",
   "metadata": {},
   "source": [
    "# 1 Les tris classiques "
   ]
  },
  {
   "attachments": {},
   "cell_type": "markdown",
   "metadata": {},
   "source": [
    "**ATTENTION** Le pseudo-code n'est pas du code. C'est une façon de représenter l'algorithme comme si c'était du code. Il n'y a pas de norme, il n'y a pas de format particulier. Il peut être écrit dans la langue que vous voulez et se rapprocher de la syntaxe du code de votre choix.  \n",
    "Ici, nous sommes sous Python, qui est un code facile à lire et à écrire à condition de faire attention aux indentations. Essayons d'écrire un pseudo code proche d'une syntaxe python sans trop en faire (ce n'est pas du code !!)"
   ]
  },
  {
   "cell_type": "markdown",
   "metadata": {},
   "source": [
    "## 1.1 Tri à bulles"
   ]
  },
  {
   "attachments": {},
   "cell_type": "markdown",
   "metadata": {},
   "source": [
    "**Un pseudocode possible** *(source : Wikipedia, réécrit sous format python)*\n",
    "\n",
    "```\n",
    "procedure tri_à_bulles(Tableau T):\n",
    "   pour i allant de (taille de T)-1 à 1:\n",
    "       pour j allant de 0 à i-1:\n",
    "           si T[j+1] < T[j] alors:\n",
    "               échanger(T, j+1, j)\n",
    "```"
   ]
  },
  {
   "cell_type": "code",
   "execution_count": 4,
   "metadata": {},
   "outputs": [],
   "source": [
    "def bubble(A):\n",
    "    n=len(A)\n",
    "    for i in range(n, 1, -1):\n",
    "        for j in range(0, i-1):\n",
    "            if A[j+1] < A[j]:\n",
    "                swap(A, j+1, j)\n",
    "    return A"
   ]
  },
  {
   "cell_type": "code",
   "execution_count": 5,
   "metadata": {},
   "outputs": [
    {
     "name": "stdout",
     "output_type": "stream",
     "text": [
      "[1, 3, 20, 18, 0, 11, 2, 17, 10, 6, 7, 19, 5, 8, 16, 9, 15, 14, 13, 12, 4]\n",
      "[0, 1, 2, 3, 4, 5, 6, 7, 8, 9, 10, 11, 12, 13, 14, 15, 16, 17, 18, 19, 20]\n"
     ]
    }
   ],
   "source": [
    "data = (generate_random_array())\n",
    "print(data)\n",
    "print(bubble(data))"
   ]
  },
  {
   "cell_type": "markdown",
   "metadata": {},
   "source": [
    "c'est une procédure car on modifie juste des valeurs on ne crée rien\n",
    "complexité : il y'a deux boucles(n * n) + l'operation if et l'operation swap qui sont négligeables donc O=(n²)"
   ]
  },
  {
   "cell_type": "code",
   "execution_count": 10,
   "metadata": {
    "scrolled": true
   },
   "outputs": [
    {
     "name": "stdout",
     "output_type": "stream",
     "text": [
      " "
     ]
    },
    {
     "data": {
      "text/plain": [
       "         5 function calls in 0.000 seconds\n",
       "\n",
       "   Ordered by: internal time\n",
       "\n",
       "   ncalls  tottime  percall  cumtime  percall filename:lineno(function)\n",
       "        1    0.000    0.000    0.000    0.000 1470813323.py:1(bubble)\n",
       "        1    0.000    0.000    0.000    0.000 {built-in method builtins.exec}\n",
       "        1    0.000    0.000    0.000    0.000 <string>:1(<module>)\n",
       "        1    0.000    0.000    0.000    0.000 {built-in method builtins.len}\n",
       "        1    0.000    0.000    0.000    0.000 {method 'disable' of '_lsprof.Profiler' objects}"
      ]
     },
     "metadata": {},
     "output_type": "display_data"
    }
   ],
   "source": [
    "%prun bubble(data)"
   ]
  },
  {
   "cell_type": "markdown",
   "metadata": {},
   "source": [
    "## 1.2 Insertion"
   ]
  },
  {
   "attachments": {},
   "cell_type": "markdown",
   "metadata": {},
   "source": [
    "**Un pseudocode possible** *(source : Wikipedia réécrit sous format )*\n",
    "\n",
    "```\n",
    "procédure tri_insertion(tableau T, entier n):\n",
    "\n",
    "  pour i de 1 à n - 1:\n",
    "        # mémoriser T[i] dans x\n",
    "        x = T[i]                            \n",
    "\n",
    "        j = i                               \n",
    "        tant que j > 0 et T[j - 1] > x:\n",
    "                 T[j] = T[j - 1]\n",
    "                 j = j - 1\n",
    "\n",
    "        # placer x dans le \"trou\" laissé par le décalage\n",
    "        T[j] = x \n",
    "```"
   ]
  },
  {
   "cell_type": "code",
   "execution_count": 12,
   "metadata": {},
   "outputs": [],
   "source": [
    "def insertion(A):\n",
    "    n = len(A)\n",
    "\n",
    "\n",
    "    for i in range(1, n):\n",
    "        x = A[i]\n",
    "        j = i\n",
    "        while j > 0 and A[j - 1] > x:\n",
    "            A[j] = A[j - 1]\n",
    "            j = j - 1\n",
    "            A[j] = x\n",
    "    return A"
   ]
  },
  {
   "cell_type": "code",
   "execution_count": 13,
   "metadata": {},
   "outputs": [
    {
     "name": "stdout",
     "output_type": "stream",
     "text": [
      "[5, 3, 0, 1, 2, 4, 7, 6, 9, 8]\n",
      "[0, 1, 2, 3, 4, 5, 6, 7, 8, 9]\n"
     ]
    }
   ],
   "source": [
    "data = (generate_random_array(N = 10))\n",
    "print(data)\n",
    "print(insertion(data))"
   ]
  },
  {
   "cell_type": "markdown",
   "metadata": {},
   "source": [
    "c'est une procédure car on modifie juste des valeurs on ne crée rien\n",
    "complexité : il y'a deux boucles(n * n) + 5 opérations qui sont négligeables donc O=(n²)"
   ]
  },
  {
   "cell_type": "code",
   "execution_count": 15,
   "metadata": {},
   "outputs": [
    {
     "name": "stdout",
     "output_type": "stream",
     "text": [
      " "
     ]
    },
    {
     "data": {
      "text/plain": [
       "         5 function calls in 0.000 seconds\n",
       "\n",
       "   Ordered by: internal time\n",
       "\n",
       "   ncalls  tottime  percall  cumtime  percall filename:lineno(function)\n",
       "        1    0.000    0.000    0.000    0.000 {built-in method builtins.exec}\n",
       "        1    0.000    0.000    0.000    0.000 2728437884.py:1(insertion)\n",
       "        1    0.000    0.000    0.000    0.000 <string>:1(<module>)\n",
       "        1    0.000    0.000    0.000    0.000 {method 'disable' of '_lsprof.Profiler' objects}\n",
       "        1    0.000    0.000    0.000    0.000 {built-in method builtins.len}"
      ]
     },
     "metadata": {},
     "output_type": "display_data"
    }
   ],
   "source": [
    "%prun insertion(data)"
   ]
  },
  {
   "cell_type": "markdown",
   "metadata": {},
   "source": [
    "## 1.3 Selection"
   ]
  },
  {
   "attachments": {},
   "cell_type": "markdown",
   "metadata": {},
   "source": [
    "**Un pseudocode possible** *(source : Wikipedia, réécrit sous format python)*\n",
    "\n",
    "```\n",
    "procédure tri_selection(tableau t, entier n):\n",
    "  pour i de 0 à n - 2:\n",
    "      min = i       \n",
    "      pour j de i + 1 à n - 1:\n",
    "          si t[j] < t[min]:\n",
    "            min = j\n",
    "      si min ≠ i,\n",
    "          échanger(t, i, min)\n",
    "```"
   ]
  },
  {
   "cell_type": "code",
   "execution_count": 17,
   "metadata": {},
   "outputs": [],
   "source": [
    "def selection(A):\n",
    "    n = len(A)\n",
    "    for i in range(0, n):\n",
    "        min = i\n",
    "        for j in range (i+1, n):\n",
    "            if A[j] < A[min]:\n",
    "                min = j\n",
    "        if min != i:\n",
    "            swap(A, i, min)\n",
    "    return A"
   ]
  },
  {
   "cell_type": "code",
   "execution_count": 18,
   "metadata": {},
   "outputs": [
    {
     "name": "stdout",
     "output_type": "stream",
     "text": [
      "[7, 10, 4, 13, 8, 12, 0, 19, 14, 1, 9, 18, 11, 20, 16, 6, 15, 2, 17, 5, 3]\n",
      "[0, 1, 2, 3, 4, 5, 6, 7, 8, 9, 10, 11, 12, 13, 14, 15, 16, 17, 18, 19, 20]\n"
     ]
    }
   ],
   "source": [
    "data_2 = (generate_random_array())\n",
    "print(data_2)\n",
    "print(selection(data_2))"
   ]
  },
  {
   "cell_type": "markdown",
   "metadata": {},
   "source": [
    "c'est une procédure car on modifie juste des valeurs on ne crée rien\n",
    "complexité : il y'a deux boucles(n * n) + 3 opérations qui sont négligeables donc O=(n²)"
   ]
  },
  {
   "cell_type": "code",
   "execution_count": 19,
   "metadata": {},
   "outputs": [
    {
     "name": "stdout",
     "output_type": "stream",
     "text": [
      " "
     ]
    },
    {
     "data": {
      "text/plain": [
       "         5 function calls in 0.000 seconds\n",
       "\n",
       "   Ordered by: internal time\n",
       "\n",
       "   ncalls  tottime  percall  cumtime  percall filename:lineno(function)\n",
       "        1    0.000    0.000    0.000    0.000 {built-in method builtins.exec}\n",
       "        1    0.000    0.000    0.000    0.000 2837747080.py:1(selection)\n",
       "        1    0.000    0.000    0.000    0.000 <string>:1(<module>)\n",
       "        1    0.000    0.000    0.000    0.000 {built-in method builtins.len}\n",
       "        1    0.000    0.000    0.000    0.000 {method 'disable' of '_lsprof.Profiler' objects}"
      ]
     },
     "metadata": {},
     "output_type": "display_data"
    }
   ],
   "source": [
    "%prun selection(data)"
   ]
  },
  {
   "cell_type": "markdown",
   "metadata": {},
   "source": [
    "==========================================================================================================================================================="
   ]
  }
 ],
 "metadata": {
  "kernelspec": {
   "display_name": "Python 3 (ipykernel)",
   "language": "python",
   "name": "python3"
  },
  "language_info": {
   "codemirror_mode": {
    "name": "ipython",
    "version": 3
   },
   "file_extension": ".py",
   "mimetype": "text/x-python",
   "name": "python",
   "nbconvert_exporter": "python",
   "pygments_lexer": "ipython3",
   "version": "3.11.7"
  }
 },
 "nbformat": 4,
 "nbformat_minor": 4
}
