{
 "cells": [
  {
   "cell_type": "code",
   "execution_count": 3,
   "id": "e362438d-eb4f-4622-b2a1-82bb10af7ab2",
   "metadata": {},
   "outputs": [
    {
     "data": {
      "text/plain": [
       "[5, 8, 6, 10, 18, 19, 13, 0, 4, 3, 17, 16, 9, 1, 15, 7, 11, 12, 20, 14, 2]"
      ]
     },
     "execution_count": 3,
     "metadata": {},
     "output_type": "execute_result"
    }
   ],
   "source": [
    "import random\n",
    "from sorting import bubble\n",
    "\n",
    "def generate_random_array(debug=False, N=21):\n",
    "\n",
    "\n",
    "    array = list(range(0, N))\n",
    "    random.shuffle(array)\n",
    "\n",
    "    return array\n",
    "data= generate_random_array()\n",
    "data"
   ]
  },
  {
   "cell_type": "code",
   "execution_count": 2,
   "id": "21d588e3-2714-4238-9d0e-77a7bd26cbe0",
   "metadata": {},
   "outputs": [
    {
     "data": {
      "text/plain": [
       "[0, 1, 2, 3, 4, 5, 6, 7, 8, 9, 10, 11, 12, 13, 14, 15, 16, 17, 18, 19, 20]"
      ]
     },
     "execution_count": 2,
     "metadata": {},
     "output_type": "execute_result"
    }
   ],
   "source": [
    "bubble(data)"
   ]
  },
  {
   "cell_type": "code",
   "execution_count": null,
   "id": "002f4c7c-339a-4f57-84a8-2d8e5f734f54",
   "metadata": {},
   "outputs": [],
   "source": [
    "on insere pas le nom du module on importe seulement une fonction de ce fichier"
   ]
  }
 ],
 "metadata": {
  "kernelspec": {
   "display_name": "Python 3 (ipykernel)",
   "language": "python",
   "name": "python3"
  },
  "language_info": {
   "codemirror_mode": {
    "name": "ipython",
    "version": 3
   },
   "file_extension": ".py",
   "mimetype": "text/x-python",
   "name": "python",
   "nbconvert_exporter": "python",
   "pygments_lexer": "ipython3",
   "version": "3.11.7"
  }
 },
 "nbformat": 4,
 "nbformat_minor": 5
}
