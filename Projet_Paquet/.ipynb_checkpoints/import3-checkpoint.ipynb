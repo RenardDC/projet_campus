{
 "cells": [
  {
   "cell_type": "code",
   "execution_count": 1,
   "id": "11310d04-00c0-468a-9b04-2907180f2cfa",
   "metadata": {},
   "outputs": [
    {
     "data": {
      "text/plain": [
       "[18, 7, 9, 10, 6, 13, 4, 15, 1, 14, 0, 3, 20, 19, 12, 8, 5, 2, 16, 11, 17]"
      ]
     },
     "execution_count": 1,
     "metadata": {},
     "output_type": "execute_result"
    }
   ],
   "source": [
    "import random\n",
    "import sorting as sort\n",
    "\n",
    "def generate_random_array(debug=False, N=21):\n",
    "\n",
    "\n",
    "    array = list(range(0, N))\n",
    "    random.shuffle(array)\n",
    "\n",
    "    return array\n",
    "data= generate_random_array()\n",
    "data"
   ]
  },
  {
   "cell_type": "code",
   "execution_count": 2,
   "id": "14a9e12c-8938-4696-ab79-b31755fed626",
   "metadata": {},
   "outputs": [
    {
     "data": {
      "text/plain": [
       "[0, 1, 2, 3, 4, 5, 6, 7, 8, 9, 10, 11, 12, 13, 14, 15, 16, 17, 18, 19, 20]"
      ]
     },
     "execution_count": 2,
     "metadata": {},
     "output_type": "execute_result"
    }
   ],
   "source": [
    "sort.bubble(data)"
   ]
  },
  {
   "cell_type": "code",
   "execution_count": 4,
   "id": "bfa23340-2530-4bda-bf04-fe464c6ed41c",
   "metadata": {},
   "outputs": [],
   "source": [
    "sort.merge_sort(data)"
   ]
  },
  {
   "cell_type": "code",
   "execution_count": null,
   "id": "ee110b93-bc7e-482a-b0f5-2ee180bb7b7b",
   "metadata": {},
   "outputs": [],
   "source": []
  }
 ],
 "metadata": {
  "kernelspec": {
   "display_name": "Python 3 (ipykernel)",
   "language": "python",
   "name": "python3"
  },
  "language_info": {
   "codemirror_mode": {
    "name": "ipython",
    "version": 3
   },
   "file_extension": ".py",
   "mimetype": "text/x-python",
   "name": "python",
   "nbconvert_exporter": "python",
   "pygments_lexer": "ipython3",
   "version": "3.11.7"
  }
 },
 "nbformat": 4,
 "nbformat_minor": 5
}
