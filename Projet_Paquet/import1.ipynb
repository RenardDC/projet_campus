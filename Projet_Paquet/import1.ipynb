{
 "cells": [
  {
   "cell_type": "code",
   "execution_count": 5,
   "id": "0079f5f7-3f33-4246-9133-0bc79a838a82",
   "metadata": {},
   "outputs": [
    {
     "data": {
      "text/plain": [
       "[15, 7, 2, 10, 18, 17, 5, 1, 8, 13, 11, 6, 0, 12, 3, 19, 20, 14, 4, 9, 16]"
      ]
     },
     "execution_count": 5,
     "metadata": {},
     "output_type": "execute_result"
    }
   ],
   "source": [
    "import random\n",
    "from sorting import *\n",
    "\n",
    "def generate_random_array(debug=False, N=21):\n",
    "\n",
    "\n",
    "    array = list(range(0, N))\n",
    "    random.shuffle(array)\n",
    "\n",
    "    return array\n",
    "data= generate_random_array()\n",
    "data"
   ]
  },
  {
   "cell_type": "code",
   "execution_count": 4,
   "id": "8e39106b-85d3-4c49-a9f8-9a6aeae35016",
   "metadata": {},
   "outputs": [
    {
     "data": {
      "text/plain": [
       "[0, 1, 2, 3, 4, 5, 6, 7, 8, 9, 10, 11, 12, 13, 14, 15, 16, 17, 18, 19, 20]"
      ]
     },
     "execution_count": 4,
     "metadata": {},
     "output_type": "execute_result"
    }
   ],
   "source": [
    "bubble(data)"
   ]
  },
  {
   "cell_type": "markdown",
   "id": "c8c513c9-84d0-48de-8896-a55d426f122c",
   "metadata": {},
   "source": [
    "méthode peut utiliser car il peut y'avoir des risques de collisions par exemple la j'ai fonction bubble maus peut etre q'il y'avait une variable portant le nom bubble qui va se retrouver masquer par la fonction"
   ]
  }
 ],
 "metadata": {
  "kernelspec": {
   "display_name": "Python 3 (ipykernel)",
   "language": "python",
   "name": "python3"
  },
  "language_info": {
   "codemirror_mode": {
    "name": "ipython",
    "version": 3
   },
   "file_extension": ".py",
   "mimetype": "text/x-python",
   "name": "python",
   "nbconvert_exporter": "python",
   "pygments_lexer": "ipython3",
   "version": "3.11.7"
  }
 },
 "nbformat": 4,
 "nbformat_minor": 5
}
